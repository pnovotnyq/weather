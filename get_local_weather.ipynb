{
 "cells": [
  {
   "cell_type": "code",
   "execution_count": null,
   "metadata": {},
   "outputs": [],
   "source": [
    "class Weather(self, latitude, logitude):\n",
    "    self.latitude = latitude\n",
    "    self.longitude = longitude\n",
    "    self.coords = (latitude, longitude)\n",
    "    self.db = 'weather.db'\n",
    "    \n",
    "    def __init__(self):\n",
    "        pass\n",
    "    def __str__(self):\n",
    "        return f'Weather close to coordinates <{latitude},{longitude}>.\"\n",
    "    def __repr__(self):\n",
    "        return f'Weather({latitude},{longitude})'\n",
    "    def convert_coordinate(self, coord):\n",
    "        import re\n",
    "        # Degrees, minutes, and seconds (DMS): 41°24'12.2\"N 2°10'26.5\"E\n",
    "        # Degrees and decimal minutes (DMM): 41 24.2028, 2 10.4418\n",
    "        # Decimal degrees (DD): 41.40338, 2.17403\n",
    "        return (coord)\n",
    "    def set_local_coordinates(self, latitude, longitude)\n",
    "        latitude = convert_coordinate(latitude)\n",
    "        longitude = convert_coordinate(longitude)\n",
    "        self.coords = (latitude, longitude)\n",
    "        return (latitude, longitude)\n",
    "        \n",
    "    def get_nearest_station(self):\n",
    "        import sqlite3\n",
    "        with sqlite3.connect(self.db) as conn:\n",
    "            stations = conn.execute(\"SELECT id, latitude, longitude FROM Stations\").fetchall()\n",
    "            for stn_id, stn_lat, stn_lon in stations:\n",
    "                distance = haversine(stn_lat, stn_lon, self.latitude, self.longitude)\n",
    "                try:\n",
    "                    is_nearest = distance < nearest_dist\n",
    "                except NameError:\n",
    "                    nearest_dist = distance\n",
    "                    nearest_stn = stn_id\n",
    "                else:\n",
    "                    if is_nearest:\n",
    "                        nearest_dist = distance\n",
    "                        nearest_stn = stn_id\n",
    "        return nearest_stn\n"
   ]
  },
  {
   "cell_type": "code",
   "execution_count": 14,
   "metadata": {},
   "outputs": [],
   "source": [
    "def haversine(lat1, lon1, lat2, lon2):\n",
    "    from math import radians, cos, sin, asin, sqrt\n",
    "    #convert degrees to radians\n",
    "    lat1 = radians(lat1)\n",
    "    lon1 = radians(lon1)\n",
    "    lon2 = radians(lon2)\n",
    "    lat2 = radians(lat2)\n",
    "    # Difference between lat and lon\n",
    "    dlat = lat2 - lat1\n",
    "    dlon = lon2 - lon1\n",
    "    # Haversine formula\n",
    "    a = sin(dlat/2)**2 + cos(lat1) * cos(lat2) * sin(dlon/2)**2\n",
    "    distance = 2 * asin(sqrt(a)) * 6371  # 6371 is the radius of the Earth\n",
    "    return distance"
   ]
  },
  {
   "cell_type": "code",
   "execution_count": 15,
   "metadata": {},
   "outputs": [],
   "source": [
    "def fetch_stations(db):\n",
    "    \"\"\"Retrieve stations geographic location from a database.\"\"\"\n",
    "    import sqlite3\n",
    "    with sqlite3.connect(db) as conn:\n",
    "        stations = conn.execute(\"SELECT id, latitude, longitude FROM Stations\").fetchall()\n",
    "    return stations"
   ]
  },
  {
   "cell_type": "code",
   "execution_count": 16,
   "metadata": {},
   "outputs": [],
   "source": [
    "def get_nearest_station(latitude, longitude, stations):\n",
    "    \"\"\"Get the id of the nearest station from stations.\n",
    "\n",
    "    Args:\n",
    "        latitude (float): Your latitude in decimal digit format.\n",
    "        longitude (float): Your longitude in decimal digit format.\n",
    "    Returns:\n",
    "        int: ID of the nearest station.\"\"\"\n",
    "    for stn_id, stn_lat, stn_lon in stations:\n",
    "        distance = haversine(stn_lat, stn_lon, latitude, longitude)\n",
    "        try:\n",
    "            is_nearest = distance < nearest_dist\n",
    "        except NameError:\n",
    "            nearest_dist = distance\n",
    "            nearest_stn = stn_id\n",
    "        else:\n",
    "            if is_nearest:\n",
    "                nearest_dist = distance\n",
    "                nearest_stn = stn_id\n",
    "    return nearest_stn"
   ]
  },
  {
   "cell_type": "code",
   "execution_count": 20,
   "metadata": {},
   "outputs": [],
   "source": [
    "import sqlite3\n",
    "db = 'weather.db'\n",
    "my_lat = 52.194504\n",
    "my_lon = 0.134708\n",
    "stations = fetch_stations(db)\n",
    "nearest_stn = get_nearest_station(my_lat, my_lon, stations)"
   ]
  },
  {
   "cell_type": "code",
   "execution_count": 21,
   "metadata": {},
   "outputs": [
    {
     "data": {
      "text/plain": [
       "1261471"
      ]
     },
     "execution_count": 21,
     "metadata": {},
     "output_type": "execute_result"
    }
   ],
   "source": [
    "nearest_stn"
   ]
  },
  {
   "cell_type": "code",
   "execution_count": 25,
   "metadata": {},
   "outputs": [
    {
     "ename": "OperationalError",
     "evalue": "database is locked",
     "output_type": "error",
     "traceback": [
      "\u001b[1;31m---------------------------------------------------------------------------\u001b[0m",
      "\u001b[1;31mOperationalError\u001b[0m                          Traceback (most recent call last)",
      "\u001b[1;32m<ipython-input-25-db5b900f7a03>\u001b[0m in \u001b[0;36m<module>\u001b[1;34m\u001b[0m\n\u001b[0;32m      1\u001b[0m \u001b[1;32mwith\u001b[0m \u001b[0msqlite3\u001b[0m\u001b[1;33m.\u001b[0m\u001b[0mconnect\u001b[0m\u001b[1;33m(\u001b[0m\u001b[0mdb\u001b[0m\u001b[1;33m)\u001b[0m \u001b[1;32mas\u001b[0m \u001b[0mconn\u001b[0m\u001b[1;33m:\u001b[0m\u001b[1;33m\u001b[0m\u001b[1;33m\u001b[0m\u001b[0m\n\u001b[0;32m      2\u001b[0m     weather = conn.execute(\"\"\"\n\u001b[1;32m----> 3\u001b[1;33m     SELECT * from Measurements WHERE stations_id = (?)\"\"\", (nearest_stn,)).fetchone()\n\u001b[0m",
      "\u001b[1;31mOperationalError\u001b[0m: database is locked"
     ]
    }
   ],
   "source": [
    "with sqlite3.connect(db) as conn:\n",
    "    weather = conn.execute(\"\"\"\n",
    "    SELECT * from Measurements WHERE stations_id = (?)\"\"\", (nearest_stn,)).fetchone()"
   ]
  }
 ],
 "metadata": {
  "kernelspec": {
   "display_name": "Python 3",
   "language": "python",
   "name": "python3"
  },
  "language_info": {
   "codemirror_mode": {
    "name": "ipython",
    "version": 3
   },
   "file_extension": ".py",
   "mimetype": "text/x-python",
   "name": "python",
   "nbconvert_exporter": "python",
   "pygments_lexer": "ipython3",
   "version": "3.7.3"
  }
 },
 "nbformat": 4,
 "nbformat_minor": 2
}
